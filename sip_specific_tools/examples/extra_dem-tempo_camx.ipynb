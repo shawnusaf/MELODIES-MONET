{
 "cells": [
  {
   "cell_type": "code",
   "execution_count": null,
   "id": "19359a91-9c03-4d6f-a923-93666e411c17",
   "metadata": {},
   "outputs": [],
   "source": [
    "# Compare CAMx to TEMPO NO2, HCHO and FNR (HCHO/NO2)"
   ]
  },
  {
   "cell_type": "code",
   "execution_count": null,
   "id": "e28f462d-28e1-42ce-a160-b8f55bdb1352",
   "metadata": {},
   "outputs": [],
   "source": [
    "# READ THE control yaml file\n",
    "import xarray as xr\n",
    "an = driver.analysis()\n",
    "an.control = 'control_tempo_camx.yaml'\n",
    "an.read_control()"
   ]
  },
  {
   "cell_type": "code",
   "execution_count": null,
   "id": "247519fd-42ef-437f-8df9-29746355f557",
   "metadata": {},
   "outputs": [],
   "source": [
    "# Read observations and models, pair data and generate paired output file\n",
    "# or just read a paired outputfile if already exists\n",
    "an.open_obs()\n",
    "an.open_models()\n",
    "an.pair_data()\n",
    "an.save_analysis()\n",
    "#an.read_analysis()"
   ]
  },
  {
   "cell_type": "code",
   "execution_count": null,
   "id": "63be745b-02e9-4a82-affa-a9ee2643aa0f",
   "metadata": {},
   "outputs": [],
   "source": [
    "# calculate FNR from NO2 and HCHO paired output\n",
    "# only calculate FNR for pixels with NO2 > 1e15 molec/cm2\n",
    "an.obs[\"tempo_l2_FNR\"] = driver.observation()\n",
    "an.obs[\"tempo_l2_FNR\"].sat_type = \"tempo_l2\"\n",
    "an.obs[\"tempo_l2_FNR\"].variable_dict = {\"tempo_l2_FNR\": {\"ylabel_plot\": \"FNR\"}}\n",
    "\n",
    "models = [\"CAMX\"]\n",
    "no2 = [\"NO2\"]\n",
    "hcho = [\"FORM\"]\n",
    "\n",
    "for pair in an.paired.keys():\n",
    "    an.paired[pair].obj = an.paired[pair].obj.sel(time=(an.paired[pair].obj['time'].dt.hour > 4))\n",
    "\n",
    "for no2_m, hcho_m, model in zip(no2, hcho, models):\n",
    "    ratio_FNR = xr.Dataset()\n",
    "    ratio_FNR[\"tempo_l2_FNR\"] = (\n",
    "        an.paired[f\"tempo_l2_hcho_{model}\"].obj[\"vertical_column\"]\n",
    "        / an.paired[f\"tempo_l2_no2_{model}\"].obj[\"vertical_column_troposphere\"]\n",
    "    ).where(an.paired[f\"tempo_l2_no2_{model}\"].obj[\"vertical_column_troposphere\"] > 1e15)\n",
    "    ratio_FNR[f\"{model}_FNR\"] = (\n",
    "        an.paired[f\"tempo_l2_hcho_{model}\"].obj[hcho_m]\n",
    "        / an.paired[f\"tempo_l2_no2_{model}\"].obj[no2_m]\n",
    "    ).where(an.paired[f\"tempo_l2_no2_{model}\"].obj[no2_m] > 1e15)   \n",
    "\n",
    "    p = driver.pair()\n",
    "    p.type = \"sat_swath_clm\"\n",
    "    p.obs = \"tempo_l2_FNR\"\n",
    "    p.model = f\"{model}\"\n",
    "    p.model_vars = [f\"{model}_FNR\"]\n",
    "    p.obs_vars = [\"tempo_l2_FNR\"]\n",
    "    p.obj = ratio_FNR\n",
    "    p.filename = f\"tempo_l2_FNR_{model}.nc\"\n",
    "    an.paired[f\"tempo_l2_FNR_{model}\"] = p"
   ]
  },
  {
   "cell_type": "code",
   "execution_count": null,
   "id": "7c7cb081-ba99-40d5-a66e-b6bb07dd8807",
   "metadata": {},
   "outputs": [],
   "source": [
    "# plotting and statistics\n",
    "an.plotting()\n",
    "an.stats()"
   ]
  }
 ],
 "metadata": {
  "kernelspec": {
   "display_name": "Python 3 (ipykernel)",
   "language": "python",
   "name": "python3"
  },
  "language_info": {
   "codemirror_mode": {
    "name": "ipython",
    "version": 3
   },
   "file_extension": ".py",
   "mimetype": "text/x-python",
   "name": "python",
   "nbconvert_exporter": "python",
   "pygments_lexer": "ipython3",
   "version": "3.9.20"
  }
 },
 "nbformat": 4,
 "nbformat_minor": 5
}
