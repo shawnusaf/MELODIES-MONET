{
 "cells": [
  {
   "cell_type": "code",
   "execution_count": null,
   "id": "19359a91-9c03-4d6f-a923-93666e411c17",
   "metadata": {},
   "outputs": [],
   "source": [
    "# Compare CAMx to PANDORA NO2 for the two Boulder PANDORA instruments"
   ]
  },
  {
   "cell_type": "code",
   "execution_count": null,
   "id": "e28f462d-28e1-42ce-a160-b8f55bdb1352",
   "metadata": {},
   "outputs": [],
   "source": [
    "import xarray as xr\n",
    "an = driver.analysis()\n",
    "an.control = './fromPablo/Demo/control_pandora_camx_no2.yaml'\n",
    "an.read_control()"
   ]
  },
  {
   "cell_type": "code",
   "execution_count": null,
   "id": "247519fd-42ef-437f-8df9-29746355f557",
   "metadata": {},
   "outputs": [],
   "source": [
    "an.open_obs()\n",
    "an.open_models()\n",
    "an.pair_data()\n",
    "an.save_analysis()"
   ]
  },
  {
   "cell_type": "code",
   "execution_count": null,
   "id": "7c7cb081-ba99-40d5-a66e-b6bb07dd8807",
   "metadata": {},
   "outputs": [],
   "source": [
    "#an.read_analysis()\n",
    "an.plotting()\n",
    "an.stats()"
   ]
  },
  {
   "cell_type": "code",
   "execution_count": null,
   "id": "1d5d9e4c-bde5-4159-b61f-3adf5e49ee5b",
   "metadata": {},
   "outputs": [],
   "source": []
  },
  {
   "cell_type": "code",
   "execution_count": null,
   "id": "b3cd117a-c017-4afa-bc99-b4f1f3ff5cb0",
   "metadata": {},
   "outputs": [],
   "source": []
  },
  {
   "cell_type": "code",
   "execution_count": null,
   "id": "35bd2213-2f65-4710-aeca-6961d71c68f5",
   "metadata": {},
   "outputs": [],
   "source": []
  },
  {
   "cell_type": "code",
   "execution_count": null,
   "id": "097249d8-fe0f-485e-aa5d-b4da90bafdaa",
   "metadata": {},
   "outputs": [],
   "source": []
  }
 ],
 "metadata": {
  "kernelspec": {
   "display_name": "Python [conda env:melodies-monet]",
   "language": "python",
   "name": "conda-env-melodies-monet-py"
  },
  "language_info": {
   "codemirror_mode": {
    "name": "ipython",
    "version": 3
   },
   "file_extension": ".py",
   "mimetype": "text/x-python",
   "name": "python",
   "nbconvert_exporter": "python",
   "pygments_lexer": "ipython3",
   "version": "3.11.11"
  }
 },
 "nbformat": 4,
 "nbformat_minor": 5
}
